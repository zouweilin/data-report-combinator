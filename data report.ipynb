{
 "cells": [
  {
   "cell_type": "code",
   "execution_count": 68,
   "metadata": {},
   "outputs": [],
   "source": [
    "import pandas as pd\n",
    "from collections import Counter\n",
    "import glob"
   ]
  },
  {
   "cell_type": "code",
   "execution_count": null,
   "metadata": {},
   "outputs": [],
   "source": [
    "# in order to use data report, just please all csvs in the same folder as this notebook, then run all cells"
   ]
  },
  {
   "cell_type": "code",
   "execution_count": 81,
   "metadata": {},
   "outputs": [],
   "source": [
    "file_paths = glob.glob('*.csv')"
   ]
  },
  {
   "cell_type": "code",
   "execution_count": 71,
   "metadata": {},
   "outputs": [],
   "source": [
    "class DataColumn:\n",
    "    def __init__(self, file=None, column_name=None,top_entry_1=None,top_entry_2=None,top_entry_3=None):\n",
    "\n",
    "        self.file = file\n",
    "        self.column_name =  column_name\n",
    "        self.top_entry_1 = top_entry_1\n",
    "        self.top_entry_2 = top_entry_2\n",
    "        self.top_entry_3 = top_entry_3"
   ]
  },
  {
   "cell_type": "code",
   "execution_count": 72,
   "metadata": {},
   "outputs": [],
   "source": [
    "data_columns = []\n",
    "for file in file_paths:\n",
    "    df = pd.read_csv(file, sep='|')\n",
    "    for column in df.columns:\n",
    "        counts = Counter(df[column]).most_common(3)\n",
    "        top_entry_1 = ''\n",
    "        top_entry_2 = ''\n",
    "        top_entry_3 = ''\n",
    "        if len(counts) > 0:\n",
    "            top_entry_1 = counts[0][0]\n",
    "        if len(counts) > 1:\n",
    "            top_entry_2 = counts[1][0]\n",
    "        if len(counts) > 2:\n",
    "            top_entry_3 = counts[2][0]\n",
    "        data_column = DataColumn(file=file,column_name=column,top_entry_1=top_entry_1,top_entry_2=top_entry_2,top_entry_3=top_entry_3)\n",
    "        data_columns.append(data_column)"
   ]
  },
  {
   "cell_type": "code",
   "execution_count": 73,
   "metadata": {},
   "outputs": [],
   "source": [
    "files = []\n",
    "column_names = []\n",
    "top_entry_1s = []\n",
    "top_entry_2s = []\n",
    "top_entry_3s = []\n",
    "for data_column in data_columns:\n",
    "    files.append(data_column.file)\n",
    "    column_names.append(data_column.column_name)\n",
    "    top_entry_1s.append(data_column.top_entry_1)\n",
    "    top_entry_2s.append(data_column.top_entry_2)\n",
    "    top_entry_3s.append(data_column.top_entry_3)\n",
    "    "
   ]
  },
  {
   "cell_type": "code",
   "execution_count": 74,
   "metadata": {},
   "outputs": [],
   "source": [
    "data_report_df = pd.DataFrame([files,column_names,top_entry_1s,top_entry_2s,top_entry_3s]).T\n",
    "data_report_df.columns = ['File', 'Column', 'Top Entry 1', 'Top Entry 2', 'Top Entry 3']\n",
    "new_columns = ['Data Table','Data Field','Data Mod','Mod 1','Table 1','Field 1','Mod 2','Table 2','Field 2','Mod 3','Table 3']\n",
    "for column in new_columns:\n",
    "    data_report_df[column] = ''"
   ]
  },
  {
   "cell_type": "code",
   "execution_count": 76,
   "metadata": {},
   "outputs": [],
   "source": [
    "data_report_df.to_csv('data report.csv', index=False)"
   ]
  },
  {
   "cell_type": "code",
   "execution_count": null,
   "metadata": {},
   "outputs": [],
   "source": []
  }
 ],
 "metadata": {
  "kernelspec": {
   "display_name": "Python 3",
   "language": "python",
   "name": "python3"
  },
  "language_info": {
   "codemirror_mode": {
    "name": "ipython",
    "version": 3
   },
   "file_extension": ".py",
   "mimetype": "text/x-python",
   "name": "python",
   "nbconvert_exporter": "python",
   "pygments_lexer": "ipython3",
   "version": "3.6.5"
  }
 },
 "nbformat": 4,
 "nbformat_minor": 2
}
